{
  "nbformat": 4,
  "nbformat_minor": 0,
  "metadata": {
    "colab": {
      "name": "latest.ipynb",
      "provenance": [],
      "collapsed_sections": []
    },
    "kernelspec": {
      "name": "python3",
      "display_name": "Python 3"
    },
    "accelerator": "GPU"
  },
  "cells": [
    {
      "cell_type": "code",
      "metadata": {
        "id": "SMN4B23cy7KC",
        "colab_type": "code",
        "outputId": "545b67d4-39ff-43f7-f699-d3db7d9506b6",
        "colab": {
          "base_uri": "https://localhost:8080/",
          "height": 80
        }
      },
      "source": [
        "import tensorflow as tf\n",
        "print(tf.__version__)"
      ],
      "execution_count": 1,
      "outputs": [
        {
          "output_type": "display_data",
          "data": {
            "text/html": [
              "<p style=\"color: red;\">\n",
              "The default version of TensorFlow in Colab will soon switch to TensorFlow 2.x.<br>\n",
              "We recommend you <a href=\"https://www.tensorflow.org/guide/migrate\" target=\"_blank\">upgrade</a> now \n",
              "or ensure your notebook will continue to use TensorFlow 1.x via the <code>%tensorflow_version 1.x</code> magic:\n",
              "<a href=\"https://colab.research.google.com/notebooks/tensorflow_version.ipynb\" target=\"_blank\">more info</a>.</p>\n"
            ],
            "text/plain": [
              "<IPython.core.display.HTML object>"
            ]
          },
          "metadata": {
            "tags": []
          }
        },
        {
          "output_type": "stream",
          "text": [
            "1.15.0\n"
          ],
          "name": "stdout"
        }
      ]
    },
    {
      "cell_type": "code",
      "metadata": {
        "id": "Z2-JKxHKy-k0",
        "colab_type": "code",
        "colab": {}
      },
      "source": [
        "import numpy as np # linear algebra\n",
        "import matplotlib.pyplot as plt\n",
        "%matplotlib inline\n",
        "from sklearn.model_selection import train_test_split\n",
        "from sklearn.metrics import confusion_matrix"
      ],
      "execution_count": 0,
      "outputs": []
    },
    {
      "cell_type": "code",
      "metadata": {
        "id": "waDmNO2J273X",
        "colab_type": "code",
        "colab": {}
      },
      "source": [
        ""
      ],
      "execution_count": 0,
      "outputs": []
    },
    {
      "cell_type": "code",
      "metadata": {
        "id": "Hju8NxuozA8J",
        "colab_type": "code",
        "outputId": "a83bcc18-28f5-43b5-b178-db570887bd78",
        "colab": {
          "base_uri": "https://localhost:8080/",
          "height": 34
        }
      },
      "source": [
        "\n",
        "from keras.utils.np_utils import to_categorical # convert to one-hot-encoding\n",
        "from keras.models import Sequential\n",
        "from keras.layers import Dense, Dropout, Flatten, Conv2D, MaxPool2D, BatchNormalization\n",
        "from keras.optimizers import Adam\n",
        "from keras.preprocessing.image import ImageDataGenerator\n",
        "from keras.callbacks import LearningRateScheduler"
      ],
      "execution_count": 3,
      "outputs": [
        {
          "output_type": "stream",
          "text": [
            "Using TensorFlow backend.\n"
          ],
          "name": "stderr"
        }
      ]
    },
    {
      "cell_type": "code",
      "metadata": {
        "id": "i5mxMxkozC1e",
        "colab_type": "code",
        "outputId": "6c425819-5972-4108-e2fc-eb75c8923a5e",
        "colab": {
          "base_uri": "https://localhost:8080/",
          "height": 88
        }
      },
      "source": [
        "import tensorflow.compat.v1 as tf\n",
        "tf.disable_v2_behavior()"
      ],
      "execution_count": 4,
      "outputs": [
        {
          "output_type": "stream",
          "text": [
            "WARNING:tensorflow:From /usr/local/lib/python3.6/dist-packages/tensorflow_core/python/compat/v2_compat.py:68: disable_resource_variables (from tensorflow.python.ops.variable_scope) is deprecated and will be removed in a future version.\n",
            "Instructions for updating:\n",
            "non-resource variables are not supported in the long term\n"
          ],
          "name": "stdout"
        }
      ]
    },
    {
      "cell_type": "code",
      "metadata": {
        "id": "IomFng6jzFIO",
        "colab_type": "code",
        "outputId": "4e22f5d0-dbc2-41af-9a89-66af24b469fa",
        "colab": {
          "base_uri": "https://localhost:8080/",
          "height": 119
        }
      },
      "source": [
        "mnist = tf.keras.datasets.mnist\n",
        "(x_train,y_train), (x_test,y_test) = mnist.load_data()\n",
        "\n",
        "x_train = np.array(x_train)\n",
        "print(x_train.shape)\n",
        "\n",
        "x_test = np.array(x_test)\n",
        "print(x_test.shape)\n",
        "\n",
        "y_train = np.array(y_train)\n",
        "print(y_train.shape)\n",
        "\n",
        "y_test = np.array(y_test)\n",
        "print(y_test.shape)"
      ],
      "execution_count": 5,
      "outputs": [
        {
          "output_type": "stream",
          "text": [
            "Downloading data from https://storage.googleapis.com/tensorflow/tf-keras-datasets/mnist.npz\n",
            "11493376/11490434 [==============================] - 0s 0us/step\n",
            "(60000, 28, 28)\n",
            "(10000, 28, 28)\n",
            "(60000,)\n",
            "(10000,)\n"
          ],
          "name": "stdout"
        }
      ]
    },
    {
      "cell_type": "code",
      "metadata": {
        "id": "RD17-TxlzTkx",
        "colab_type": "code",
        "outputId": "bdb3fcbd-b444-4b70-c5a1-bbb32f90803f",
        "colab": {
          "base_uri": "https://localhost:8080/",
          "height": 34
        }
      },
      "source": [
        "x_train = x_train.reshape(60000, 28, 28, 1)\n",
        "x_test = x_test.reshape(10000, 28, 28, 1)\n",
        "\n",
        "x_train = x_train.astype(\"float32\")/255.\n",
        "x_test = x_test.astype(\"float32\")/255\n",
        "\n",
        "y_train = to_categorical(y_train)\n",
        "y_test = to_categorical(y_test)\n",
        "#example:\n",
        "print(y_train[0])"
      ],
      "execution_count": 6,
      "outputs": [
        {
          "output_type": "stream",
          "text": [
            "[0. 0. 0. 0. 0. 1. 0. 0. 0. 0.]\n"
          ],
          "name": "stdout"
        }
      ]
    },
    {
      "cell_type": "code",
      "metadata": {
        "id": "BTEbrX2xzUyW",
        "colab_type": "code",
        "colab": {}
      },
      "source": [
        "model = Sequential()\n",
        "\n",
        "model.add(Conv2D(filters = 10, kernel_size = (3, 3), activation='relu',input_shape = (28, 28, 1)))\n",
        "model.add(BatchNormalization())\n",
        "model.add(Conv2D(filters = 10, kernel_size = (3, 3), activation='relu'))\n",
        "model.add(BatchNormalization())\n",
        "model.add(MaxPool2D(strides=(2,2)))\n",
        "model.add(Dropout(0.25))\n",
        "\n",
        "model.add(Conv2D(filters = 20, kernel_size = (3, 3), activation='relu'))\n",
        "model.add(BatchNormalization())\n",
        "model.add(Conv2D(filters = 20, kernel_size = (3, 3), activation='relu'))\n",
        "model.add(BatchNormalization())\n",
        "model.add(MaxPool2D(strides=(2,2)))\n",
        "model.add(Dropout(0.25))\n",
        "\n",
        "model.add(Flatten())\n",
        "model.add(Dense(500, activation='relu'))\n",
        "model.add(Dropout(0.25))\n",
        "model.add(Dense(1000, activation='relu'))\n",
        "model.add(Dropout(0.5))\n",
        "model.add(Dense(10, activation='softmax'))\n",
        "\n",
        "\n",
        "#What the pooling operation does is it reduces the size of the image and focuses in on the strongest values. \n",
        "#This effectively allows the machine learner to help identify the most important pixels and regions in the image"
      ],
      "execution_count": 0,
      "outputs": []
    },
    {
      "cell_type": "code",
      "metadata": {
        "id": "tG2fFPiFze4o",
        "colab_type": "code",
        "colab": {}
      },
      "source": [
        "model.compile(loss='categorical_crossentropy', optimizer = Adam(), metrics=[\"accuracy\"])\n",
        "\n",
        "\n",
        "# Import model checkpoint from keras callbacks\n",
        "from keras.callbacks import ModelCheckpoint\n",
        "\n",
        "# Instantiate a model checkpoint callback\n",
        "model_save = ModelCheckpoint('best_model.hdf5',\n",
        "save_best_only=True)\n",
        "\n",
        "\n",
        "model.fit(x_train, y_train,\n",
        "validation_split=0.2, epochs=10, verbose=2, batch_size=64, \n",
        "callbacks = [model_save])\n"
      ],
      "execution_count": 0,
      "outputs": []
    },
    {
      "cell_type": "code",
      "metadata": {
        "id": "BZTcuUlbKEod",
        "colab_type": "code",
        "colab": {}
      },
      "source": [
        "#val_acc: 0.9908 after 10 epochs"
      ],
      "execution_count": 0,
      "outputs": []
    },
    {
      "cell_type": "code",
      "metadata": {
        "id": "NzM4lJlkC187",
        "colab_type": "code",
        "colab": {
          "base_uri": "https://localhost:8080/",
          "height": 859
        },
        "outputId": "03cc7bbf-59d9-4076-ee9a-fdf04af586dd"
      },
      "source": [
        "\n",
        "# Comparing the models trained with multiple activation functions\n",
        "\n",
        "\n",
        "# Set a random seed\n",
        "np.random.seed(1)\n",
        "\n",
        "\n",
        "\n",
        "\n",
        "# Return a new model with the given activation\n",
        "def get_model(act_function):\n",
        "    \n",
        "    model = Sequential()\n",
        "\n",
        "    model.add(Conv2D(filters = 10, kernel_size = (3, 3), activation=act_function,input_shape = (28, 28, 1)))\n",
        "    model.add(BatchNormalization())\n",
        "    model.add(Conv2D(filters = 10, kernel_size = (3, 3), activation=act_function))\n",
        "    model.add(BatchNormalization())\n",
        "    model.add(MaxPool2D(strides=(2,2)))\n",
        "    model.add(Dropout(0.25))\n",
        "\n",
        "    model.add(Conv2D(filters = 20, kernel_size = (3, 3), activation=act_function))\n",
        "    model.add(BatchNormalization())\n",
        "    model.add(Conv2D(filters = 20, kernel_size = (3, 3), activation=act_function))\n",
        "    model.add(BatchNormalization())\n",
        "    model.add(MaxPool2D(strides=(2,2)))\n",
        "    model.add(Dropout(0.25))\n",
        "\n",
        "    model.add(Flatten())\n",
        "    model.add(Dense(500, activation=act_function))\n",
        "    model.add(Dropout(0.25))\n",
        "    model.add(Dense(1000, activation=act_function))\n",
        "    model.add(Dropout(0.5))\n",
        "    model.add(Dense(10, activation='softmax'))\n",
        "  \n",
        "    model.compile(optimizer='adam', loss='categorical_crossentropy',metrics=['accuracy'])\n",
        "\n",
        "    return model\n",
        "\n",
        "  \n",
        "  \n",
        "# Activation functions to try out\n",
        "activations = ['relu', 'sigmoid', 'tanh']\n",
        "\n",
        "# Dictionary to store results\n",
        "activation_results = {}\n",
        "\n",
        "for funct in activations:\n",
        "    model = get_model(act_function=funct)\n",
        "    history = model.fit(x_train, y_train, validation_split=0.2, epochs=10, verbose=4, batch_size = 64)\n",
        "    activation_results[funct] = history\n",
        "\n",
        "\n",
        "import pandas as pd\n",
        "# Extract val_loss history of each activation function\n",
        "val_loss_per_funct = {k:v.history['val_loss'] for k,v in activation_results.items()}\n",
        "# Turn the dictionary into a pandas dataframe\n",
        "val_loss_curves = pd.DataFrame(val_loss_per_funct)\n",
        "# Plot the curves\n",
        "val_loss_curves.plot(title='Loss per Activation function')"
      ],
      "execution_count": 13,
      "outputs": [
        {
          "output_type": "stream",
          "text": [
            "Train on 48000 samples, validate on 12000 samples\n",
            "Epoch 1/10\n",
            "Epoch 2/10\n",
            "Epoch 3/10\n",
            "Epoch 4/10\n",
            "Epoch 5/10\n",
            "Epoch 6/10\n",
            "Epoch 7/10\n",
            "Epoch 8/10\n",
            "Epoch 9/10\n",
            "Epoch 10/10\n",
            "Train on 48000 samples, validate on 12000 samples\n",
            "Epoch 1/10\n",
            "Epoch 2/10\n",
            "Epoch 3/10\n",
            "Epoch 4/10\n",
            "Epoch 5/10\n",
            "Epoch 6/10\n",
            "Epoch 7/10\n",
            "Epoch 8/10\n",
            "Epoch 9/10\n",
            "Epoch 10/10\n",
            "Train on 48000 samples, validate on 12000 samples\n",
            "Epoch 1/10\n",
            "Epoch 2/10\n",
            "Epoch 3/10\n",
            "Epoch 4/10\n",
            "Epoch 5/10\n",
            "Epoch 6/10\n",
            "Epoch 7/10\n",
            "Epoch 8/10\n",
            "Epoch 9/10\n",
            "Epoch 10/10\n"
          ],
          "name": "stdout"
        },
        {
          "output_type": "execute_result",
          "data": {
            "text/plain": [
              "<matplotlib.axes._subplots.AxesSubplot at 0x7fe1ea179898>"
            ]
          },
          "metadata": {
            "tags": []
          },
          "execution_count": 13
        },
        {
          "output_type": "display_data",
          "data": {
            "image/png": "[encoded data removed]",
            "text/plain": [
              "<Figure size 432x288 with 1 Axes>"
            ]
          },
          "metadata": {
            "tags": []
          }
        }
      ]
    },
    {
      "cell_type": "code",
      "metadata": {
        "id": "7MW3az9jOHXe",
        "colab_type": "code",
        "colab": {
          "base_uri": "https://localhost:8080/",
          "height": 85
        },
        "outputId": "256a2507-dc08-4be5-95c9-34f54a7e7945"
      },
      "source": [
        "x_train1 = x_train[0:500,:,:,:]\n",
        "y_train1 = y_train[0:500,:]\n",
        "\n",
        "print(x_train.shape)\n",
        "print(x_train1.shape)\n",
        "\n",
        "print(y_train.shape)\n",
        "print(y_train1.shape)\n"
      ],
      "execution_count": 14,
      "outputs": [
        {
          "output_type": "stream",
          "text": [
            "(60000, 28, 28, 1)\n",
            "(500, 28, 28, 1)\n",
            "(60000, 10)\n",
            "(500, 10)\n"
          ],
          "name": "stdout"
        }
      ]
    },
    {
      "cell_type": "code",
      "metadata": {
        "id": "dJ8tJ2VJC32x",
        "colab_type": "code",
        "colab": {}
      },
      "source": [
        ""
      ],
      "execution_count": 0,
      "outputs": []
    },
    {
      "cell_type": "code",
      "metadata": {
        "id": "LzChT5UsQet6",
        "colab_type": "code",
        "colab": {}
      },
      "source": [
        "\n",
        "\n",
        "\n",
        "def create_model(cl=1, fl=16, ks = 3, dn = 500):\n",
        "    \n",
        "    #Starting the model building by adding input layer\n",
        "    model = Sequential()\n",
        "    model.add(Conv2D(filters = fl, kernel_size = (ks, ks), activation='relu',input_shape = (28, 28, 1)))\n",
        "    model.add(BatchNormalization())\n",
        "    \n",
        "\n",
        "    # Add as many additional hidden layers with f1 filters each as specified in cl\n",
        "    for i in range(cl-1):\n",
        "        # Layers have nn neurons\n",
        "        model.add(Conv2D(filters = fl, kernel_size = (ks, ks), activation='relu'))\n",
        "        model.add(BatchNormalization())\n",
        "    \n",
        "    \n",
        "    model.add(MaxPool2D(strides=(2,2)))\n",
        "    model.add(Dropout(0.25))\n",
        "\n",
        "        \n",
        "    # Add as many hidden layers with 2*f1 filters as specified in cl\n",
        "    for i in range(cl):\n",
        "        # Layers have nn neurons\n",
        "        model.add(Conv2D(filters = 2*fl, kernel_size = (ks, ks), activation='relu'))\n",
        "        model.add(BatchNormalization())\n",
        "    \n",
        "    \n",
        "    model.add(MaxPool2D(strides=(2,2)))\n",
        "    model.add(Dropout(0.25))\n",
        "\n",
        "    model.add(Flatten())\n",
        "    #dn specifies the no of neurons in dense layers\n",
        "    model.add(Dense(dn, activation='relu'))\n",
        "    model.add(Dropout(0.25))\n",
        "    model.add(Dense(2*dn, activation='relu'))\n",
        "    model.add(Dropout(0.5))\n",
        "    model.add(Dense(10, activation='softmax'))\n",
        "    \n",
        "    model.compile(optimizer='adam', loss='categorical_crossentropy',metrics=['accuracy'])\n",
        "\n",
        "    return model\n",
        "    \n",
        "    \n",
        "    \n",
        "    \n",
        "\n",
        "# Define parameters, named just like in create_model()\n",
        "params = dict(cl=[2], fl=[12,16], ks = [2,3], dn = [250,500])\n",
        "\n",
        "\n",
        "#NOTE: Instead of GridSearchCV, we can also use RandomizedSearchCV. It is much faster and can sometimes produce better results than GridSearchCV\n",
        "\n",
        "# Import sklearn wrapper from keras\n",
        "from keras.wrappers.scikit_learn import KerasClassifier\n",
        "# Import RandomizedSearchCV\n",
        "from sklearn.model_selection import GridSearchCV\n",
        "\n",
        "model = KerasClassifier(build_fn=create_model, verbose=0, epochs = 10, batch_size = 64)\n",
        "\n",
        "#random_search = RandomizedSearchCV(estimator=model, params_dist = params, cv=5, verbose=4)\n",
        "\n",
        "random_search = GridSearchCV(estimator=model, param_grid=params, cv=5, verbose=4)\n",
        "\n",
        "random_search_result = random_search.fit(x_train1, y_train1)\n",
        "print(\"Best: %f using %s\" % (random_search_result.best_score_, random_search_result.best_params_))\n",
        "\n",
        "\n"
      ],
      "execution_count": 0,
      "outputs": []
    },
    {
      "cell_type": "code",
      "metadata": {
        "id": "YQd4dl6cnEJW",
        "colab_type": "code",
        "colab": {}
      },
      "source": [
        ""
      ],
      "execution_count": 0,
      "outputs": []
    },
    {
      "cell_type": "code",
      "metadata": {
        "id": "r6A1bULlQiFk",
        "colab_type": "code",
        "colab": {}
      },
      "source": [
        "#Best: 0.918000 using {'cl': 2, 'dn': 250, 'fl': 16, 'ks': 3}"
      ],
      "execution_count": 0,
      "outputs": []
    },
    {
      "cell_type": "code",
      "metadata": {
        "id": "1HaYE03XQiH5",
        "colab_type": "code",
        "colab": {
          "base_uri": "https://localhost:8080/",
          "height": 340
        },
        "outputId": "f36e3440-d144-4c6e-e755-ed8bc21c3fb9"
      },
      "source": [
        "from sklearn.metrics import classification_report\n",
        "#the KerasClassifier comes back with the labels 0-9, so we use argmax\n",
        "#to turn our one-hot encoding into 0-9 digit labels\n",
        "y_true, y_pred = np.argmax(y_test, axis=1), random_search.predict(x_test)\n",
        "print()\n",
        "print(classification_report(y_true, y_pred))\n",
        "print()\n"
      ],
      "execution_count": 18,
      "outputs": [
        {
          "output_type": "stream",
          "text": [
            "\n",
            "              precision    recall  f1-score   support\n",
            "\n",
            "           0       0.93      0.95      0.94       980\n",
            "           1       0.95      0.99      0.97      1135\n",
            "           2       0.83      0.94      0.88      1032\n",
            "           3       0.91      0.89      0.90      1010\n",
            "           4       0.95      0.90      0.92       982\n",
            "           5       0.89      0.89      0.89       892\n",
            "           6       0.92      0.93      0.92       958\n",
            "           7       0.94      0.86      0.90      1028\n",
            "           8       0.93      0.79      0.86       974\n",
            "           9       0.82      0.89      0.85      1009\n",
            "\n",
            "    accuracy                           0.90     10000\n",
            "   macro avg       0.91      0.90      0.90     10000\n",
            "weighted avg       0.91      0.90      0.90     10000\n",
            "\n",
            "\n"
          ],
          "name": "stdout"
        }
      ]
    },
    {
      "cell_type": "code",
      "metadata": {
        "id": "LcnVgoc_QiLe",
        "colab_type": "code",
        "colab": {
          "base_uri": "https://localhost:8080/",
          "height": 1000
        },
        "outputId": "a0192d1a-cee2-481d-d77f-4f3bae4dbc29"
      },
      "source": [
        "\n",
        "def dense_model(dropout):\n",
        "    model = Sequential()\n",
        "\n",
        "    model.add(Conv2D(filters = 16, kernel_size = (3, 3), activation='relu',input_shape = (28, 28, 1)))\n",
        "    model.add(BatchNormalization())\n",
        "    model.add(Conv2D(filters = 16, kernel_size = (3, 3), activation='relu'))\n",
        "    model.add(BatchNormalization())\n",
        "    model.add(MaxPool2D(strides=(2,2)))\n",
        "    model.add(Dropout(dropout))\n",
        "\n",
        "    model.add(Conv2D(filters = 32, kernel_size = (3, 3), activation='relu'))\n",
        "    model.add(BatchNormalization())\n",
        "    model.add(Conv2D(filters = 32, kernel_size = (3, 3), activation='relu'))\n",
        "    model.add(BatchNormalization())\n",
        "    model.add(MaxPool2D(strides=(2,2)))\n",
        "    model.add(Dropout(dropout))\n",
        "\n",
        "    model.add(Flatten())\n",
        "    model.add(Dense(500, activation='relu'))\n",
        "    model.add(Dropout(dropout))\n",
        "    model.add(Dense(1000, activation='relu'))\n",
        "    model.add(Dropout(2*dropout))\n",
        "    model.add(Dense(10, activation='softmax'))\n",
        "    \n",
        "    model.compile(loss='categorical_crossentropy',\n",
        "              optimizer='adam',\n",
        "              metrics=['accuracy'])\n",
        "    return model\n",
        "\n",
        "\n",
        "\n",
        "\n",
        "# define the grid search parameters\n",
        "batch_size = [32,64]\n",
        "epochs = [10, 20]\n",
        "dropout = [0.1, 0.25]\n",
        "hyperparameters = dict(batch_size=batch_size, epochs=epochs, dropout = dropout)\n",
        "\n",
        "\n",
        "\n",
        "model = KerasClassifier(build_fn=dense_model, verbose=0)\n",
        "grid = GridSearchCV(estimator=model, param_grid=hyperparameters, cv=5, verbose=4)\n",
        "grid_result = grid.fit(x_train1, y_train1)\n",
        "print(\"Best: %f using %s\" % (grid_result.best_score_, grid_result.best_params_))\n",
        "\n",
        "#the KerasClassifier comes back with the labels 0-9, so we use argmax\n",
        "#to turn our one-hot encoding into 0-9 digit labels\n",
        "y_true, y_pred = np.argmax(y_test, axis=1), grid.predict(x_test)\n",
        "print()\n",
        "print(classification_report(y_true, y_pred))\n",
        "print()\n"
      ],
      "execution_count": 22,
      "outputs": [
        {
          "output_type": "stream",
          "text": [
            "Fitting 5 folds for each of 8 candidates, totalling 40 fits\n",
            "[CV] batch_size=32, dropout=0.1, epochs=10 ...........................\n"
          ],
          "name": "stdout"
        },
        {
          "output_type": "stream",
          "text": [
            "[Parallel(n_jobs=1)]: Using backend SequentialBackend with 1 concurrent workers.\n"
          ],
          "name": "stderr"
        },
        {
          "output_type": "stream",
          "text": [
            "[CV]  batch_size=32, dropout=0.1, epochs=10, score=0.860, total=  30.3s\n",
            "[CV] batch_size=32, dropout=0.1, epochs=10 ...........................\n"
          ],
          "name": "stdout"
        },
        {
          "output_type": "stream",
          "text": [
            "[Parallel(n_jobs=1)]: Done   1 out of   1 | elapsed:   30.3s remaining:    0.0s\n"
          ],
          "name": "stderr"
        },
        {
          "output_type": "stream",
          "text": [
            "[CV]  batch_size=32, dropout=0.1, epochs=10, score=0.900, total=  31.0s\n",
            "[CV] batch_size=32, dropout=0.1, epochs=10 ...........................\n"
          ],
          "name": "stdout"
        },
        {
          "output_type": "stream",
          "text": [
            "[Parallel(n_jobs=1)]: Done   2 out of   2 | elapsed:  1.0min remaining:    0.0s\n"
          ],
          "name": "stderr"
        },
        {
          "output_type": "stream",
          "text": [
            "[CV]  batch_size=32, dropout=0.1, epochs=10, score=0.900, total=  31.4s\n",
            "[CV] batch_size=32, dropout=0.1, epochs=10 ...........................\n"
          ],
          "name": "stdout"
        },
        {
          "output_type": "stream",
          "text": [
            "[Parallel(n_jobs=1)]: Done   3 out of   3 | elapsed:  1.5min remaining:    0.0s\n"
          ],
          "name": "stderr"
        },
        {
          "output_type": "stream",
          "text": [
            "[CV]  batch_size=32, dropout=0.1, epochs=10, score=0.930, total=  32.1s\n",
            "[CV] batch_size=32, dropout=0.1, epochs=10 ...........................\n",
            "[CV]  batch_size=32, dropout=0.1, epochs=10, score=0.900, total=  32.7s\n",
            "[CV] batch_size=32, dropout=0.1, epochs=20 ...........................\n",
            "[CV]  batch_size=32, dropout=0.1, epochs=20, score=0.880, total=  35.4s\n",
            "[CV] batch_size=32, dropout=0.1, epochs=20 ...........................\n",
            "[CV]  batch_size=32, dropout=0.1, epochs=20, score=0.910, total=  36.1s\n",
            "[CV] batch_size=32, dropout=0.1, epochs=20 ...........................\n",
            "[CV]  batch_size=32, dropout=0.1, epochs=20, score=0.870, total=  36.7s\n",
            "[CV] batch_size=32, dropout=0.1, epochs=20 ...........................\n",
            "[CV]  batch_size=32, dropout=0.1, epochs=20, score=0.950, total=  37.3s\n",
            "[CV] batch_size=32, dropout=0.1, epochs=20 ...........................\n",
            "[CV]  batch_size=32, dropout=0.1, epochs=20, score=0.890, total=  37.5s\n",
            "[CV] batch_size=32, dropout=0.25, epochs=10 ..........................\n",
            "[CV]  batch_size=32, dropout=0.25, epochs=10, score=0.930, total=  35.7s\n",
            "[CV] batch_size=32, dropout=0.25, epochs=10 ..........................\n",
            "[CV]  batch_size=32, dropout=0.25, epochs=10, score=0.910, total=  37.2s\n",
            "[CV] batch_size=32, dropout=0.25, epochs=10 ..........................\n",
            "[CV]  batch_size=32, dropout=0.25, epochs=10, score=0.910, total=  36.7s\n",
            "[CV] batch_size=32, dropout=0.25, epochs=10 ..........................\n",
            "[CV]  batch_size=32, dropout=0.25, epochs=10, score=0.940, total=  37.1s\n",
            "[CV] batch_size=32, dropout=0.25, epochs=10 ..........................\n",
            "[CV]  batch_size=32, dropout=0.25, epochs=10, score=0.910, total=  37.0s\n",
            "[CV] batch_size=32, dropout=0.25, epochs=20 ..........................\n",
            "[CV]  batch_size=32, dropout=0.25, epochs=20, score=0.920, total=  40.2s\n",
            "[CV] batch_size=32, dropout=0.25, epochs=20 ..........................\n",
            "[CV]  batch_size=32, dropout=0.25, epochs=20, score=0.930, total=  40.8s\n",
            "[CV] batch_size=32, dropout=0.25, epochs=20 ..........................\n",
            "[CV]  batch_size=32, dropout=0.25, epochs=20, score=0.910, total=  41.2s\n",
            "[CV] batch_size=32, dropout=0.25, epochs=20 ..........................\n",
            "[CV]  batch_size=32, dropout=0.25, epochs=20, score=0.930, total=  41.6s\n",
            "[CV] batch_size=32, dropout=0.25, epochs=20 ..........................\n",
            "[CV]  batch_size=32, dropout=0.25, epochs=20, score=0.900, total=  42.3s\n",
            "[CV] batch_size=64, dropout=0.1, epochs=10 ...........................\n",
            "[CV]  batch_size=64, dropout=0.1, epochs=10, score=0.910, total=  39.3s\n",
            "[CV] batch_size=64, dropout=0.1, epochs=10 ...........................\n",
            "[CV]  batch_size=64, dropout=0.1, epochs=10, score=0.890, total=  39.8s\n",
            "[CV] batch_size=64, dropout=0.1, epochs=10 ...........................\n",
            "[CV]  batch_size=64, dropout=0.1, epochs=10, score=0.910, total=  40.4s\n",
            "[CV] batch_size=64, dropout=0.1, epochs=10 ...........................\n",
            "[CV]  batch_size=64, dropout=0.1, epochs=10, score=0.950, total=  41.0s\n",
            "[CV] batch_size=64, dropout=0.1, epochs=10 ...........................\n",
            "[CV]  batch_size=64, dropout=0.1, epochs=10, score=0.870, total=  41.5s\n",
            "[CV] batch_size=64, dropout=0.1, epochs=20 ...........................\n",
            "[CV]  batch_size=64, dropout=0.1, epochs=20, score=0.930, total=  43.4s\n",
            "[CV] batch_size=64, dropout=0.1, epochs=20 ...........................\n",
            "[CV]  batch_size=64, dropout=0.1, epochs=20, score=0.930, total=  43.6s\n",
            "[CV] batch_size=64, dropout=0.1, epochs=20 ...........................\n",
            "[CV]  batch_size=64, dropout=0.1, epochs=20, score=0.960, total=  44.3s\n",
            "[CV] batch_size=64, dropout=0.1, epochs=20 ...........................\n",
            "[CV]  batch_size=64, dropout=0.1, epochs=20, score=0.950, total=  46.4s\n",
            "[CV] batch_size=64, dropout=0.1, epochs=20 ...........................\n",
            "[CV]  batch_size=64, dropout=0.1, epochs=20, score=0.880, total=  45.7s\n",
            "[CV] batch_size=64, dropout=0.25, epochs=10 ..........................\n",
            "[CV]  batch_size=64, dropout=0.25, epochs=10, score=0.910, total=  44.9s\n",
            "[CV] batch_size=64, dropout=0.25, epochs=10 ..........................\n",
            "[CV]  batch_size=64, dropout=0.25, epochs=10, score=0.910, total=  45.4s\n",
            "[CV] batch_size=64, dropout=0.25, epochs=10 ..........................\n",
            "[CV]  batch_size=64, dropout=0.25, epochs=10, score=0.920, total=  45.7s\n",
            "[CV] batch_size=64, dropout=0.25, epochs=10 ..........................\n",
            "[CV]  batch_size=64, dropout=0.25, epochs=10, score=0.920, total=  46.4s\n",
            "[CV] batch_size=64, dropout=0.25, epochs=10 ..........................\n",
            "[CV]  batch_size=64, dropout=0.25, epochs=10, score=0.920, total=  46.9s\n",
            "[CV] batch_size=64, dropout=0.25, epochs=20 ..........................\n",
            "[CV]  batch_size=64, dropout=0.25, epochs=20, score=0.930, total=  48.9s\n",
            "[CV] batch_size=64, dropout=0.25, epochs=20 ..........................\n",
            "[CV]  batch_size=64, dropout=0.25, epochs=20, score=0.930, total=  49.4s\n",
            "[CV] batch_size=64, dropout=0.25, epochs=20 ..........................\n",
            "[CV]  batch_size=64, dropout=0.25, epochs=20, score=0.920, total=  50.1s\n",
            "[CV] batch_size=64, dropout=0.25, epochs=20 ..........................\n",
            "[CV]  batch_size=64, dropout=0.25, epochs=20, score=0.970, total=  50.5s\n",
            "[CV] batch_size=64, dropout=0.25, epochs=20 ..........................\n",
            "[CV]  batch_size=64, dropout=0.25, epochs=20, score=0.900, total=  50.9s\n"
          ],
          "name": "stdout"
        },
        {
          "output_type": "stream",
          "text": [
            "[Parallel(n_jobs=1)]: Done  40 out of  40 | elapsed: 27.2min finished\n"
          ],
          "name": "stderr"
        },
        {
          "output_type": "stream",
          "text": [
            "Best: 0.930000 using {'batch_size': 64, 'dropout': 0.25, 'epochs': 20}\n",
            "\n",
            "              precision    recall  f1-score   support\n",
            "\n",
            "           0       0.92      0.97      0.94       980\n",
            "           1       0.97      0.99      0.98      1135\n",
            "           2       0.91      0.91      0.91      1032\n",
            "           3       0.96      0.86      0.90      1010\n",
            "           4       0.96      0.90      0.93       982\n",
            "           5       0.86      0.94      0.90       892\n",
            "           6       0.95      0.95      0.95       958\n",
            "           7       0.95      0.87      0.91      1028\n",
            "           8       0.98      0.80      0.88       974\n",
            "           9       0.74      0.95      0.84      1009\n",
            "\n",
            "    accuracy                           0.91     10000\n",
            "   macro avg       0.92      0.91      0.91     10000\n",
            "weighted avg       0.92      0.91      0.91     10000\n",
            "\n",
            "\n"
          ],
          "name": "stdout"
        }
      ]
    },
    {
      "cell_type": "code",
      "metadata": {
        "id": "diMZWOSbUlth",
        "colab_type": "code",
        "colab": {}
      },
      "source": [
        "#Best: 0.930000 using {'batch_size': 64, 'dropout': 0.25, 'epochs': 20}"
      ],
      "execution_count": 0,
      "outputs": []
    },
    {
      "cell_type": "code",
      "metadata": {
        "id": "afaKzD1bUlw0",
        "colab_type": "code",
        "colab": {}
      },
      "source": [
        ""
      ],
      "execution_count": 0,
      "outputs": []
    },
    {
      "cell_type": "code",
      "metadata": {
        "id": "AJsajFqOQib5",
        "colab_type": "code",
        "colab": {}
      },
      "source": [
        ""
      ],
      "execution_count": 0,
      "outputs": []
    },
    {
      "cell_type": "code",
      "metadata": {
        "id": "97836mg3FY3y",
        "colab_type": "code",
        "colab": {}
      },
      "source": [
        ""
      ],
      "execution_count": 0,
      "outputs": []
    },
    {
      "cell_type": "code",
      "metadata": {
        "id": "yLoNu7SxC38P",
        "colab_type": "code",
        "colab": {}
      },
      "source": [
        ""
      ],
      "execution_count": 0,
      "outputs": []
    },
    {
      "cell_type": "code",
      "metadata": {
        "id": "BMiK-3-VC3_J",
        "colab_type": "code",
        "colab": {}
      },
      "source": [
        ""
      ],
      "execution_count": 0,
      "outputs": []
    },
    {
      "cell_type": "code",
      "metadata": {
        "id": "O7wN4rkXzd_4",
        "colab_type": "code",
        "colab": {}
      },
      "source": [
        ""
      ],
      "execution_count": 0,
      "outputs": []
    },
    {
      "cell_type": "code",
      "metadata": {
        "id": "5rYlOdt1zy29",
        "colab_type": "code",
        "colab": {
          "base_uri": "https://localhost:8080/",
          "height": 34
        },
        "outputId": "94c85b49-bcb0-4090-ffbc-b4759c1b6aed"
      },
      "source": [
        "final_loss, final_acc = model.evaluate(x_test, y_test, verbose=0)\n",
        "print(\"Final loss: {0:.4f}, final accuracy: {1:.4f}\".format(final_loss, final_acc))"
      ],
      "execution_count": 9,
      "outputs": [
        {
          "output_type": "stream",
          "text": [
            "Final loss: 0.0283, final accuracy: 0.9926\n"
          ],
          "name": "stdout"
        }
      ]
    },
    {
      "cell_type": "code",
      "metadata": {
        "id": "G6F094GY1wjp",
        "colab_type": "code",
        "colab": {}
      },
      "source": [
        "early stopping   strides =2 batch normalisation"
      ],
      "execution_count": 0,
      "outputs": []
    }
  ]
}