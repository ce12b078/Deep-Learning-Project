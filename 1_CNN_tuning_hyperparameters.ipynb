{
  "nbformat": 4,
  "nbformat_minor": 0,
  "metadata": {
    "colab": {
      "name": "1.CNN_tuning_hyperparameters.ipynb",
      "provenance": [],
      "collapsed_sections": []
    },
    "kernelspec": {
      "name": "python3",
      "display_name": "Python 3"
    },
    "accelerator": "GPU"
  },
  "cells": [
    {
      "cell_type": "markdown",
      "metadata": {
        "id": "RTFcxlJ702l7",
        "colab_type": "text"
      },
      "source": [
        "# Hand written digit classifier using Convolutional Neural Network\n",
        "**In the first code, we will start with a CNN with randomly set hyperparameters.**\n",
        "**Thereafter we will tune these hyper parameters.**"
      ]
    },
    {
      "cell_type": "markdown",
      "metadata": {
        "id": "CEzWGVto1WuN",
        "colab_type": "text"
      },
      "source": [
        "**Ignoring warning & logs from some packages**"
      ]
    },
    {
      "cell_type": "code",
      "metadata": {
        "id": "z-WukQXk012e",
        "colab_type": "code",
        "colab": {}
      },
      "source": [
        "import warnings\n",
        "warnings.filterwarnings('ignore')\n",
        "\n",
        "import os\n",
        "os.environ['TF_CPP_MIN_LOG_LEVEL'] = '3'"
      ],
      "execution_count": 0,
      "outputs": []
    },
    {
      "cell_type": "markdown",
      "metadata": {
        "id": "SBLhnUpU0t-f",
        "colab_type": "text"
      },
      "source": [
        "**Loading all required packages**"
      ]
    },
    {
      "cell_type": "code",
      "metadata": {
        "id": "Z2-JKxHKy-k0",
        "colab_type": "code",
        "colab": {}
      },
      "source": [
        "import tensorflow as tf\n",
        "print(tf.__version__)\n",
        "tf.get_logger().setLevel('ERROR')\n",
        "\n",
        "import numpy as np # linear algebra\n",
        "import matplotlib.pyplot as plt\n",
        "%matplotlib inline\n",
        "from sklearn.model_selection import train_test_split\n",
        "from sklearn.metrics import confusion_matrix"
      ],
      "execution_count": 0,
      "outputs": []
    },
    {
      "cell_type": "code",
      "metadata": {
        "id": "Hju8NxuozA8J",
        "colab_type": "code",
        "colab": {}
      },
      "source": [
        "from keras.utils.np_utils import to_categorical # convert to one-hot-encoding\n",
        "from keras.models import Sequential\n",
        "from keras.layers import Dense, Dropout, Flatten, Conv2D, MaxPool2D, BatchNormalization\n",
        "from keras.optimizers import Adam\n",
        "from keras.preprocessing.image import ImageDataGenerator\n",
        "from keras.callbacks import LearningRateScheduler"
      ],
      "execution_count": 0,
      "outputs": []
    },
    {
      "cell_type": "code",
      "metadata": {
        "id": "i5mxMxkozC1e",
        "colab_type": "code",
        "colab": {}
      },
      "source": [
        "import tensorflow.compat.v1 as tf\n",
        "tf.disable_v2_behavior()"
      ],
      "execution_count": 0,
      "outputs": []
    },
    {
      "cell_type": "markdown",
      "metadata": {
        "id": "628Re9Bw1Rmd",
        "colab_type": "text"
      },
      "source": [
        "**Splitting the data into train & test**"
      ]
    },
    {
      "cell_type": "code",
      "metadata": {
        "id": "IomFng6jzFIO",
        "colab_type": "code",
        "outputId": "bfc5c18e-87bb-4e7f-e044-9b6f261eed33",
        "colab": {
          "base_uri": "https://localhost:8080/",
          "height": 119
        }
      },
      "source": [
        "mnist = tf.keras.datasets.mnist\n",
        "(x_train,y_train), (x_test,y_test) = mnist.load_data()\n",
        "\n",
        "x_train = np.array(x_train)\n",
        "print(x_train.shape)\n",
        "\n",
        "x_test = np.array(x_test)\n",
        "print(x_test.shape)\n",
        "\n",
        "y_train = np.array(y_train)\n",
        "print(y_train.shape)\n",
        "\n",
        "y_test = np.array(y_test)\n",
        "print(y_test.shape)"
      ],
      "execution_count": 5,
      "outputs": [
        {
          "output_type": "stream",
          "text": [
            "Downloading data from https://storage.googleapis.com/tensorflow/tf-keras-datasets/mnist.npz\n",
            "11493376/11490434 [==============================] - 1s 0us/step\n",
            "(60000, 28, 28)\n",
            "(10000, 28, 28)\n",
            "(60000,)\n",
            "(10000,)\n"
          ],
          "name": "stdout"
        }
      ]
    },
    {
      "cell_type": "code",
      "metadata": {
        "id": "RD17-TxlzTkx",
        "colab_type": "code",
        "outputId": "7f9af0cd-e7b8-498a-df75-7ec4b66f24f6",
        "colab": {
          "base_uri": "https://localhost:8080/",
          "height": 34
        }
      },
      "source": [
        "x_train = x_train.reshape(60000, 28, 28, 1)\n",
        "x_test = x_test.reshape(10000, 28, 28, 1)\n",
        "\n",
        "x_train = x_train.astype(\"float32\")/255.\n",
        "x_test = x_test.astype(\"float32\")/255\n",
        "\n",
        "y_train = to_categorical(y_train)\n",
        "y_test = to_categorical(y_test)\n",
        "#example:\n",
        "print(y_train[0])"
      ],
      "execution_count": 6,
      "outputs": [
        {
          "output_type": "stream",
          "text": [
            "[0. 0. 0. 0. 0. 1. 0. 0. 0. 0.]\n"
          ],
          "name": "stdout"
        }
      ]
    },
    {
      "cell_type": "markdown",
      "metadata": {
        "id": "f3ohhNzA17RB",
        "colab_type": "text"
      },
      "source": [
        "**Start with a CNN, having 4 CNN maps, each followed by BatchNormalization. We also used 2 MaxPool2D layers & 2 Dropout layers. Then we used 3 layers of dense network.**"
      ]
    },
    {
      "cell_type": "code",
      "metadata": {
        "id": "sX80igZd2IjT",
        "colab_type": "code",
        "colab": {}
      },
      "source": [
        "model = Sequential()\n",
        "\n",
        "model.add(Conv2D(filters = 10, kernel_size = (3, 3), activation='relu',input_shape = (28, 28, 1)))\n",
        "model.add(BatchNormalization())\n",
        "model.add(Conv2D(filters = 10, kernel_size = (3, 3), activation='relu'))\n",
        "model.add(BatchNormalization())\n",
        "model.add(MaxPool2D(strides=(2,2)))\n",
        "model.add(Dropout(0.25))\n",
        "\n",
        "model.add(Conv2D(filters = 20, kernel_size = (3, 3), activation='relu'))\n",
        "model.add(BatchNormalization())\n",
        "model.add(Conv2D(filters = 20, kernel_size = (3, 3), activation='relu'))\n",
        "model.add(BatchNormalization())\n",
        "model.add(MaxPool2D(strides=(2,2)))\n",
        "model.add(Dropout(0.25))\n",
        "\n",
        "model.add(Flatten())\n",
        "model.add(Dense(500, activation='relu'))\n",
        "model.add(Dropout(0.25))\n",
        "model.add(Dense(1000, activation='relu'))\n",
        "model.add(Dropout(0.5))\n",
        "model.add(Dense(10, activation='softmax'))\n",
        "\n",
        "\n",
        "#What the pooling operation does is it reduces the size of the image and focuses in on the strongest values. \n",
        "#This effectively allows the machine learner to help identify the most important pixels and regions in the image"
      ],
      "execution_count": 0,
      "outputs": []
    },
    {
      "cell_type": "code",
      "metadata": {
        "id": "tG2fFPiFze4o",
        "colab_type": "code",
        "colab": {
          "base_uri": "https://localhost:8080/",
          "height": 391
        },
        "outputId": "42aa0cce-e557-4f5e-d4e6-c0a584634c6d"
      },
      "source": [
        "model.compile(loss='categorical_crossentropy', optimizer = Adam(), metrics=[\"accuracy\"])\n",
        "\n",
        "\n",
        "# Import model checkpoint from keras callbacks\n",
        "from keras.callbacks import ModelCheckpoint\n",
        "\n",
        "# Instantiate a model checkpoint callback\n",
        "model_save = ModelCheckpoint('best_model.hdf5',\n",
        "save_best_only=True)\n",
        "\n",
        "\n",
        "model.fit(x_train, y_train,\n",
        "validation_split=0.2, epochs=10, verbose=2, batch_size=64, \n",
        "callbacks = [model_save])\n"
      ],
      "execution_count": 8,
      "outputs": [
        {
          "output_type": "stream",
          "text": [
            "Train on 48000 samples, validate on 12000 samples\n",
            "Epoch 1/10\n",
            " - 14s - loss: 0.2765 - acc: 0.9123 - val_loss: 0.0685 - val_acc: 0.9788\n",
            "Epoch 2/10\n",
            " - 7s - loss: 0.0977 - acc: 0.9706 - val_loss: 0.0468 - val_acc: 0.9864\n",
            "Epoch 3/10\n",
            " - 7s - loss: 0.0773 - acc: 0.9773 - val_loss: 0.0408 - val_acc: 0.9888\n",
            "Epoch 4/10\n",
            " - 7s - loss: 0.0651 - acc: 0.9804 - val_loss: 0.0398 - val_acc: 0.9895\n",
            "Epoch 5/10\n",
            " - 7s - loss: 0.0627 - acc: 0.9815 - val_loss: 0.0453 - val_acc: 0.9888\n",
            "Epoch 6/10\n",
            " - 7s - loss: 0.0570 - acc: 0.9833 - val_loss: 0.0475 - val_acc: 0.9877\n",
            "Epoch 7/10\n",
            " - 7s - loss: 0.0524 - acc: 0.9847 - val_loss: 0.0354 - val_acc: 0.9910\n",
            "Epoch 8/10\n",
            " - 7s - loss: 0.0508 - acc: 0.9854 - val_loss: 0.0317 - val_acc: 0.9919\n",
            "Epoch 9/10\n",
            " - 7s - loss: 0.0467 - acc: 0.9864 - val_loss: 0.0326 - val_acc: 0.9918\n",
            "Epoch 10/10\n",
            " - 7s - loss: 0.0442 - acc: 0.9871 - val_loss: 0.0465 - val_acc: 0.9891\n"
          ],
          "name": "stdout"
        },
        {
          "output_type": "execute_result",
          "data": {
            "text/plain": [
              "<keras.callbacks.History at 0x7f8bca539390>"
            ]
          },
          "metadata": {
            "tags": []
          },
          "execution_count": 8
        }
      ]
    },
    {
      "cell_type": "markdown",
      "metadata": {
        "id": "q22LBeR445FK",
        "colab_type": "text"
      },
      "source": [
        "**val_acc: 0.99 after 10 epochs**"
      ]
    },
    {
      "cell_type": "markdown",
      "metadata": {
        "id": "p2Axim5e5H3J",
        "colab_type": "text"
      },
      "source": [
        "**Tuning the activation function**"
      ]
    },
    {
      "cell_type": "code",
      "metadata": {
        "id": "NzM4lJlkC187",
        "colab_type": "code",
        "outputId": "ff9204c8-4dba-403f-8e6b-d31447122f2a",
        "colab": {
          "base_uri": "https://localhost:8080/",
          "height": 859
        }
      },
      "source": [
        "# Comparing the models trained with multiple activation functions\n",
        "# Set a random seed\n",
        "np.random.seed(1)\n",
        "\n",
        "# Return a new model with the given activation\n",
        "def get_model(act_function):\n",
        "    \n",
        "    model = Sequential()\n",
        "\n",
        "    model.add(Conv2D(filters = 10, kernel_size = (3, 3), activation=act_function,input_shape = (28, 28, 1)))\n",
        "    model.add(BatchNormalization())\n",
        "    model.add(Conv2D(filters = 10, kernel_size = (3, 3), activation=act_function))\n",
        "    model.add(BatchNormalization())\n",
        "    model.add(MaxPool2D(strides=(2,2)))\n",
        "    model.add(Dropout(0.25))\n",
        "\n",
        "    model.add(Conv2D(filters = 20, kernel_size = (3, 3), activation=act_function))\n",
        "    model.add(BatchNormalization())\n",
        "    model.add(Conv2D(filters = 20, kernel_size = (3, 3), activation=act_function))\n",
        "    model.add(BatchNormalization())\n",
        "    model.add(MaxPool2D(strides=(2,2)))\n",
        "    model.add(Dropout(0.25))\n",
        "\n",
        "    model.add(Flatten())\n",
        "    model.add(Dense(500, activation=act_function))\n",
        "    model.add(Dropout(0.25))\n",
        "    model.add(Dense(1000, activation=act_function))\n",
        "    model.add(Dropout(0.5))\n",
        "    model.add(Dense(10, activation='softmax'))\n",
        "  \n",
        "    model.compile(optimizer='adam', loss='categorical_crossentropy',metrics=['accuracy'])\n",
        "\n",
        "    return model\n",
        "\n",
        "# Activation functions to try out\n",
        "activations = ['relu', 'sigmoid', 'tanh']\n",
        "\n",
        "# Dictionary to store results\n",
        "activation_results = {}\n",
        "\n",
        "for funct in activations:\n",
        "    model = get_model(act_function=funct)\n",
        "    history = model.fit(x_train, y_train, validation_split=0.2, epochs=10, verbose=4, batch_size = 64)\n",
        "    activation_results[funct] = history\n",
        "\n",
        "\n",
        "import pandas as pd\n",
        "# Extract val_loss history of each activation function\n",
        "val_loss_per_funct = {k:v.history['val_loss'] for k,v in activation_results.items()}\n",
        "# Turn the dictionary into a pandas dataframe\n",
        "val_loss_curves = pd.DataFrame(val_loss_per_funct)\n",
        "# Plot the curves\n",
        "val_loss_curves.plot(title='Loss per Activation function')"
      ],
      "execution_count": 26,
      "outputs": [
        {
          "output_type": "stream",
          "text": [
            "Train on 48000 samples, validate on 12000 samples\n",
            "Epoch 1/10\n",
            "Epoch 2/10\n",
            "Epoch 3/10\n",
            "Epoch 4/10\n",
            "Epoch 5/10\n",
            "Epoch 6/10\n",
            "Epoch 7/10\n",
            "Epoch 8/10\n",
            "Epoch 9/10\n",
            "Epoch 10/10\n",
            "Train on 48000 samples, validate on 12000 samples\n",
            "Epoch 1/10\n",
            "Epoch 2/10\n",
            "Epoch 3/10\n",
            "Epoch 4/10\n",
            "Epoch 5/10\n",
            "Epoch 6/10\n",
            "Epoch 7/10\n",
            "Epoch 8/10\n",
            "Epoch 9/10\n",
            "Epoch 10/10\n",
            "Train on 48000 samples, validate on 12000 samples\n",
            "Epoch 1/10\n",
            "Epoch 2/10\n",
            "Epoch 3/10\n",
            "Epoch 4/10\n",
            "Epoch 5/10\n",
            "Epoch 6/10\n",
            "Epoch 7/10\n",
            "Epoch 8/10\n",
            "Epoch 9/10\n",
            "Epoch 10/10\n"
          ],
          "name": "stdout"
        },
        {
          "output_type": "execute_result",
          "data": {
            "text/plain": [
              "<matplotlib.axes._subplots.AxesSubplot at 0x7f6a7fe57588>"
            ]
          },
          "metadata": {
            "tags": []
          },
          "execution_count": 26
        },
        {
          "output_type": "display_data",
          "data": {
            "image/png": "[encoded data removed]",
            "text/plain": [
              "<Figure size 432x288 with 1 Axes>"
            ]
          },
          "metadata": {
            "tags": []
          }
        }
      ]
    },
    {
      "cell_type": "markdown",
      "metadata": {
        "id": "fFS4Ss4l7VQB",
        "colab_type": "text"
      },
      "source": [
        "**Relu turned out to be the best activation function.**"
      ]
    },
    {
      "cell_type": "markdown",
      "metadata": {
        "id": "9eduCpcxpm6F",
        "colab_type": "text"
      },
      "source": [
        "**In the next part of the code, we will be tuning several hyperparameters at the same time. So, we will be training several models. To speed up the computation, we are taking a smaller subsample from our train data. If we had more computation power on our system, we would have run the tuning code for entire training data**"
      ]
    },
    {
      "cell_type": "code",
      "metadata": {
        "id": "7MW3az9jOHXe",
        "colab_type": "code",
        "outputId": "7aea4baa-1d77-4973-8bf0-6d8b6f7b09a6",
        "colab": {
          "base_uri": "https://localhost:8080/",
          "height": 85
        }
      },
      "source": [
        "x_train1 = x_train[0:500,:,:,:]\n",
        "y_train1 = y_train[0:500,:]\n",
        "\n",
        "print(x_train.shape)\n",
        "print(x_train1.shape)\n",
        "\n",
        "print(y_train.shape)\n",
        "print(y_train1.shape)\n"
      ],
      "execution_count": 9,
      "outputs": [
        {
          "output_type": "stream",
          "text": [
            "(60000, 28, 28, 1)\n",
            "(500, 28, 28, 1)\n",
            "(60000, 10)\n",
            "(500, 10)\n"
          ],
          "name": "stdout"
        }
      ]
    },
    {
      "cell_type": "markdown",
      "metadata": {
        "id": "uyh_EJC15noo",
        "colab_type": "text"
      },
      "source": [
        "**Tuning the no.of CNN maps, no. of filters in each CNN map, k size & no.of nodes in dense layer**"
      ]
    },
    {
      "cell_type": "code",
      "metadata": {
        "id": "LzChT5UsQet6",
        "colab_type": "code",
        "colab": {}
      },
      "source": [
        "def create_model(cl=1, fl=16, ks = 3, dn = 500):\n",
        "    \n",
        "    #Starting the model building by adding input layer\n",
        "    model = Sequential()\n",
        "    model.add(Conv2D(filters = fl, kernel_size = (ks, ks), activation='relu',input_shape = (28, 28, 1)))\n",
        "    model.add(BatchNormalization())\n",
        "    \n",
        "\n",
        "    # Add as many additional hidden layers with f1 filters each as specified in cl\n",
        "    for i in range(cl-1):\n",
        "        # Layers have nn neurons\n",
        "        model.add(Conv2D(filters = fl, kernel_size = (ks, ks), activation='relu'))\n",
        "        model.add(BatchNormalization())\n",
        "    \n",
        "    \n",
        "    model.add(MaxPool2D(strides=(2,2)))\n",
        "    model.add(Dropout(0.25))\n",
        "\n",
        "        \n",
        "    # Add as many hidden layers with 2*f1 filters as specified in cl\n",
        "    for i in range(cl):\n",
        "        # Layers have nn neurons\n",
        "        model.add(Conv2D(filters = 2*fl, kernel_size = (ks, ks), activation='relu'))\n",
        "        model.add(BatchNormalization())\n",
        "    \n",
        "    \n",
        "    model.add(MaxPool2D(strides=(2,2)))\n",
        "    model.add(Dropout(0.25))\n",
        "\n",
        "    model.add(Flatten())\n",
        "    #dn specifies the no of neurons in dense layers\n",
        "    model.add(Dense(dn, activation='relu'))\n",
        "    model.add(Dropout(0.25))\n",
        "    model.add(Dense(2*dn, activation='relu'))\n",
        "    model.add(Dropout(0.5))\n",
        "    model.add(Dense(10, activation='softmax'))\n",
        "    \n",
        "    model.compile(optimizer='adam', loss='categorical_crossentropy',metrics=['accuracy'])\n",
        "\n",
        "    return model\n",
        "    \n",
        "\n",
        "# Define parameters, named just like in create_model()\n",
        "params = dict(cl=[2], fl=[12,16], ks = [2,3], dn = [250,500])\n",
        "\n",
        "# Import sklearn wrapper from keras\n",
        "from keras.wrappers.scikit_learn import KerasClassifier\n",
        "# Import RandomizedSearchCV\n",
        "from sklearn.model_selection import GridSearchCV\n",
        "\n",
        "model = KerasClassifier(build_fn=create_model, verbose=0, epochs = 10, batch_size = 64)\n",
        "\n",
        "random_search = GridSearchCV(estimator=model, param_grid=params, cv=5, verbose=4)\n",
        "\n",
        "random_search_result = random_search.fit(x_train1, y_train1)\n",
        "print(\"Best: %f using %s\" % (random_search_result.best_score_, random_search_result.best_params_))\n"
      ],
      "execution_count": 0,
      "outputs": []
    },
    {
      "cell_type": "markdown",
      "metadata": {
        "id": "fw4jBjtj58ac",
        "colab_type": "text"
      },
      "source": [
        "**Best model has accuracy = 0.92 using best hyper parameters as {'cl': 2, 'dn': 500, 'fl': 16, 'ks': 3}**"
      ]
    },
    {
      "cell_type": "markdown",
      "metadata": {
        "id": "2JV5NkNe58h8",
        "colab_type": "text"
      },
      "source": [
        "**Printing the classification report**"
      ]
    },
    {
      "cell_type": "code",
      "metadata": {
        "id": "1HaYE03XQiH5",
        "colab_type": "code",
        "outputId": "f78a9a6b-c9ee-4626-d8ca-64e6cc7c9349",
        "colab": {
          "base_uri": "https://localhost:8080/",
          "height": 340
        }
      },
      "source": [
        "from sklearn.metrics import classification_report\n",
        "#the KerasClassifier comes back with the labels 0-9, so we use argmax\n",
        "#to turn our one-hot encoding into 0-9 digit labels\n",
        "y_true, y_pred = np.argmax(y_test, axis=1), random_search.predict(x_test)\n",
        "print()\n",
        "print(classification_report(y_true, y_pred))\n",
        "print()\n"
      ],
      "execution_count": 30,
      "outputs": [
        {
          "output_type": "stream",
          "text": [
            "\n",
            "              precision    recall  f1-score   support\n",
            "\n",
            "           0       0.93      0.96      0.95       980\n",
            "           1       0.98      0.99      0.98      1135\n",
            "           2       0.88      0.93      0.90      1032\n",
            "           3       0.96      0.83      0.89      1010\n",
            "           4       0.95      0.91      0.93       982\n",
            "           5       0.87      0.90      0.89       892\n",
            "           6       0.89      0.96      0.92       958\n",
            "           7       0.92      0.85      0.88      1028\n",
            "           8       0.93      0.85      0.89       974\n",
            "           9       0.80      0.90      0.85      1009\n",
            "\n",
            "    accuracy                           0.91     10000\n",
            "   macro avg       0.91      0.91      0.91     10000\n",
            "weighted avg       0.91      0.91      0.91     10000\n",
            "\n",
            "\n"
          ],
          "name": "stdout"
        }
      ]
    },
    {
      "cell_type": "markdown",
      "metadata": {
        "id": "4Tvu2rAkmfYY",
        "colab_type": "text"
      },
      "source": [
        "**Tuning remaining hyperparameters: batch_size, epochs, dropout**"
      ]
    },
    {
      "cell_type": "code",
      "metadata": {
        "id": "LcnVgoc_QiLe",
        "colab_type": "code",
        "colab": {}
      },
      "source": [
        "\n",
        "def dense_model(dropout):\n",
        "    model = Sequential()\n",
        "\n",
        "    model.add(Conv2D(filters = 16, kernel_size = (3, 3), activation='relu',input_shape = (28, 28, 1)))\n",
        "    model.add(BatchNormalization())\n",
        "    model.add(Conv2D(filters = 16, kernel_size = (3, 3), activation='relu'))\n",
        "    model.add(BatchNormalization())\n",
        "    model.add(MaxPool2D(strides=(2,2)))\n",
        "    model.add(Dropout(dropout))\n",
        "\n",
        "    model.add(Conv2D(filters = 32, kernel_size = (3, 3), activation='relu'))\n",
        "    model.add(BatchNormalization())\n",
        "    model.add(Conv2D(filters = 32, kernel_size = (3, 3), activation='relu'))\n",
        "    model.add(BatchNormalization())\n",
        "    model.add(MaxPool2D(strides=(2,2)))\n",
        "    model.add(Dropout(dropout))\n",
        "\n",
        "    model.add(Flatten())\n",
        "    model.add(Dense(500, activation='relu'))\n",
        "    model.add(Dropout(dropout))\n",
        "    model.add(Dense(1000, activation='relu'))\n",
        "    model.add(Dropout(2*dropout))\n",
        "    model.add(Dense(10, activation='softmax'))\n",
        "    \n",
        "    model.compile(loss='categorical_crossentropy',\n",
        "              optimizer='adam',\n",
        "              metrics=['accuracy'])\n",
        "    return model\n",
        "\n",
        "\n",
        "# define the grid search parameters\n",
        "batch_size = [32,64]\n",
        "epochs = [10, 20]\n",
        "dropout = [0.1, 0.25]\n",
        "hyperparameters = dict(batch_size=batch_size, epochs=epochs, dropout = dropout)\n",
        "\n",
        "\n",
        "model = KerasClassifier(build_fn=dense_model, verbose=0)\n",
        "grid = GridSearchCV(estimator=model, param_grid=hyperparameters, cv=5, verbose=4)\n",
        "grid_result = grid.fit(x_train1, y_train1)\n",
        "print(\"Best: %f using %s\" % (grid_result.best_score_, grid_result.best_params_))\n"
      ],
      "execution_count": 0,
      "outputs": []
    },
    {
      "cell_type": "markdown",
      "metadata": {
        "id": "gL9tcjKWm74z",
        "colab_type": "text"
      },
      "source": [
        "**Best model have accuracy 0.926 & following parameters {'batch_size': 64, 'dropout': 0.25, 'epochs': 20}**"
      ]
    },
    {
      "cell_type": "code",
      "metadata": {
        "id": "l44Qb98l9UV8",
        "colab_type": "code",
        "colab": {
          "base_uri": "https://localhost:8080/",
          "height": 323
        },
        "outputId": "ea3f1ef0-41dd-49b3-d2c9-159dd37a77a7"
      },
      "source": [
        "from sklearn.metrics import classification_report\n",
        "y_true, y_pred = np.argmax(y_test, axis=1), grid.predict(x_test)\n",
        "print()\n",
        "print(classification_report(y_true, y_pred))"
      ],
      "execution_count": 13,
      "outputs": [
        {
          "output_type": "stream",
          "text": [
            "\n",
            "              precision    recall  f1-score   support\n",
            "\n",
            "           0       0.96      0.93      0.95       980\n",
            "           1       0.96      0.99      0.98      1135\n",
            "           2       0.83      0.94      0.89      1032\n",
            "           3       0.96      0.87      0.91      1010\n",
            "           4       0.93      0.93      0.93       982\n",
            "           5       0.93      0.87      0.90       892\n",
            "           6       0.94      0.93      0.94       958\n",
            "           7       0.91      0.87      0.89      1028\n",
            "           8       0.95      0.87      0.91       974\n",
            "           9       0.79      0.91      0.84      1009\n",
            "\n",
            "    accuracy                           0.91     10000\n",
            "   macro avg       0.92      0.91      0.91     10000\n",
            "weighted avg       0.92      0.91      0.91     10000\n",
            "\n"
          ],
          "name": "stdout"
        }
      ]
    },
    {
      "cell_type": "code",
      "metadata": {
        "id": "5rYlOdt1zy29",
        "colab_type": "code",
        "colab": {}
      },
      "source": [
        "#Checking model accuracy on untouched test data\n",
        "final_loss, final_acc = model.evaluate(x_test, y_test, verbose=0)\n",
        "print(\"Final loss: {0:.4f}, final accuracy: {1:.4f}\".format(final_loss, final_acc))"
      ],
      "execution_count": 0,
      "outputs": []
    }
  ]
}